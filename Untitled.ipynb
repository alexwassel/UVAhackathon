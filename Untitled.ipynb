{
 "cells": [
  {
   "cell_type": "code",
   "execution_count": null,
   "metadata": {},
   "outputs": [],
   "source": [
    "import pandas as pd\n",
    "import numpy as np\n",
    "#!python\n",
    "#!/usr/bin/env python\n",
    "charsTrain = pd.read_csv(\"emnist-byclass-test.csv\", header=None)\n",
    "charsTrain.info()\n",
    "charsTest = pd.read_csv('emnist-byclass-test.csv', header=None)\n",
    "\n"
   ]
  },
  {
   "cell_type": "code",
   "execution_count": null,
   "metadata": {},
   "outputs": [],
   "source": [
    "from sklearn import svm\n",
    "from sklearn.model_selection import GridSearchCV\n",
    "params = {'kernel':('linear', 'rbf'), 'C':[1, 10, 100]}"
   ]
  },
  {
   "cell_type": "code",
   "execution_count": null,
   "metadata": {},
   "outputs": [],
   "source": [
    "y_train = np.ravel(pd.DataFrame(charsTrain.iloc[:, 0]))\n",
    "y_test = np.ravel(pd.DataFrame(charsTest.iloc[:, 0]))\n",
    "X_train = pd.DataFrame(charsTrain.iloc[:, 1:])\n",
    "X_test = charsTest.drop(charsTest.columns[0])"
   ]
  },
  {
   "cell_type": "code",
   "execution_count": null,
   "metadata": {},
   "outputs": [],
   "source": [
    "classes = []\n",
    "for i in range(62):\n",
    "    i += 1\n",
    "    train = (y_train == i)\n",
    "    test = (y_test == i)\n",
    "    svc = svm.SVC(gamma=\"scale\", C= 1, kernel = \"linear\")\n",
    "    classes.append([train, test, svc])"
   ]
  },
  {
   "cell_type": "code",
   "execution_count": null,
   "metadata": {},
   "outputs": [],
   "source": [
    "svc.fit(X_train, classes[0][0])"
   ]
  }
 ],
 "metadata": {
  "kernelspec": {
   "display_name": "Python 3",
   "language": "python",
   "name": "python3"
  },
  "language_info": {
   "codemirror_mode": {
    "name": "ipython",
    "version": 3
   },
   "file_extension": ".py",
   "mimetype": "text/x-python",
   "name": "python",
   "nbconvert_exporter": "python",
   "pygments_lexer": "ipython3",
   "version": "3.7.2"
  }
 },
 "nbformat": 4,
 "nbformat_minor": 2
}
